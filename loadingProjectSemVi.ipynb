{
 "cells": [
  {
   "cell_type": "code",
   "execution_count": 18,
   "id": "26cfd122",
   "metadata": {},
   "outputs": [],
   "source": [
    "from tensorflow import keras\n",
    "import cv2\n",
    "import numpy as np"
   ]
  },
  {
   "cell_type": "code",
   "execution_count": 19,
   "id": "d4b903a9",
   "metadata": {},
   "outputs": [],
   "source": [
    "word_dict = {0:'A',1:'B',2:'C',3:'D',4:'E',5:'F',6:'G',7:'H',8:'I',9:'J',10:'K',11:'L',12:'M',13:'N',14:'O',15:'P',16:'Q',17:'R',18:'S',19:'T',20:'U',21:'V',22:'W',23:'X', 24:'Y',25:'Z'}\n",
    "\n",
    "alphabets = []\n",
    "for i in word_dict.values():\n",
    "    alphabets.append(i)"
   ]
  },
  {
   "cell_type": "code",
   "execution_count": 20,
   "id": "39f9032c",
   "metadata": {},
   "outputs": [],
   "source": [
    "model = keras.models.load_model(\"model_hand.h5\")"
   ]
  },
  {
   "cell_type": "code",
   "execution_count": 27,
   "id": "2205939a",
   "metadata": {},
   "outputs": [],
   "source": [
    "#External image testing...\n",
    "img = cv2.imread(r'D:\\home\\PROJECT\\PROJECT SEM-VI\\img-P00.jpg')\n",
    "img_copy = img.copy()\n",
    "img = cv2.cvtColor(img, cv2.COLOR_BGR2RGB)\n",
    "img = cv2.resize(img, (400, 440))\n",
    "img_copy = cv2.GaussianBlur(img_copy, (7, 7), 0)\n",
    "img_gray = cv2.cvtColor(img_copy, cv2.COLOR_BGR2GRAY)\n",
    "_, img_thresh = cv2.threshold(img_gray, 100, 255, cv2.THRESH_BINARY_INV)\n",
    "\n",
    "img_final = cv2.resize(img_thresh, (28, 28))\n",
    "img_final = np.reshape(img_final, (1, 28, 28, 1))\n",
    "\n",
    "img_pred = word_dict[np.argmax(model.predict(img_final))]\n",
    "\n",
    "cv2.putText(img, \"PROJECT SEM-VI\", (20, 25), cv2.FONT_HERSHEY_TRIPLEX, 0.7, color = (0, 0, 230))\n",
    "cv2.putText(img, \"Prediction: \" + img_pred, (70, 430), cv2.FONT_HERSHEY_DUPLEX, 1.3, color = (255, 0, 30))\n",
    "cv2.imshow('Handwritten character recognition _ _ _ ', img)"
   ]
  },
  {
   "cell_type": "code",
   "execution_count": 28,
   "id": "8b872bf3",
   "metadata": {},
   "outputs": [],
   "source": [
    "while(1) :\n",
    "    k = cv2.waitKey(1) & 0xFF\n",
    "    if k == 27 :\n",
    "        break\n",
    "cv2.destroyAllWindows()"
   ]
  }
 ],
 "metadata": {
  "kernelspec": {
   "display_name": "Python 3",
   "language": "python",
   "name": "python3"
  },
  "language_info": {
   "codemirror_mode": {
    "name": "ipython",
    "version": 3
   },
   "file_extension": ".py",
   "mimetype": "text/x-python",
   "name": "python",
   "nbconvert_exporter": "python",
   "pygments_lexer": "ipython3",
   "version": "3.8.8"
  }
 },
 "nbformat": 4,
 "nbformat_minor": 5
}
